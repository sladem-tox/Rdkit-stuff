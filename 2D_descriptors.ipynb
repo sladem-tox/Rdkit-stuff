{
 "cells": [
  {
   "cell_type": "markdown",
   "metadata": {},
   "source": [
    "# 2D feature calucator with molfeat from Pat Walters:\n",
    "https://github.com/PatWalters/practical_cheminformatics_tutorials?tab=readme-ov-file\n",
    "Lesson 7 covers using datamol and molfeat.\n",
    "\n",
    "But see also: https://docs.datamol.io/0.9.1/tutorials/Descriptors.html\n",
    "for a list of descriptors. Note the use of batch_compute...\n"
   ]
  },
  {
   "cell_type": "code",
   "execution_count": 9,
   "metadata": {},
   "outputs": [],
   "source": [
    "import pandas as pd\n",
    "import datamol as dm\n",
    "from molfeat.calc import FPCalculator\n",
    "from molfeat.calc import RDKitDescriptors2D\n",
    "from molfeat.trans import MoleculeTransformer"
   ]
  },
  {
   "cell_type": "code",
   "execution_count": 2,
   "metadata": {},
   "outputs": [],
   "source": [
    "# Load dataframe from CSV. \n",
    "df = pd.read_csv(\n",
    "    'https://raw.githubusercontent.com/cptlab/ASCEPT_2023_comptox_workshop/main/W109_Machine_learning_QSAR_for_toxicity_prediction/data/smiles_cas_N6512_corrected.smi',\n",
    "    names=['SMILES', 'CASRN', 'Ames'],\n",
    "    delimiter='\\t'\n",
    ")"
   ]
  },
  {
   "cell_type": "code",
   "execution_count": 3,
   "metadata": {},
   "outputs": [],
   "source": [
    "df['mol'] = dm.from_df(df, smiles_column=\"SMILES\")"
   ]
  },
  {
   "cell_type": "code",
   "execution_count": 5,
   "metadata": {},
   "outputs": [],
   "source": [
    "def max_ring_size(mol):\n",
    "    \"\"\"Get the size of the largest ring in a molecule\n",
    "\n",
    "    :param mol: input_molecule\n",
    "    :return: size of the largest ring or 0 for an acyclic molecule\n",
    "    \"\"\"\n",
    "    ri = mol.GetRingInfo()\n",
    "    atom_rings = ri.AtomRings()\n",
    "    if len(atom_rings) == 0:\n",
    "        return 0\n",
    "    else:\n",
    "        return max([len(x) for x in ri.AtomRings()])"
   ]
  },
  {
   "cell_type": "code",
   "execution_count": 6,
   "metadata": {},
   "outputs": [],
   "source": [
    "my_prop_dict = {\n",
    "    \"mw\" : dm.descriptors.mw,\n",
    "    \"logp\" : dm.descriptors.clogp,\n",
    "    \"hbd\" : dm.descriptors.n_lipinski_hbd,\n",
    "    \"hba\" : dm.descriptors.n_lipinski_hba,\n",
    "    \"max_ring_size\" : max_ring_size\n",
    "}"
   ]
  },
  {
   "cell_type": "code",
   "execution_count": 7,
   "metadata": {},
   "outputs": [
    {
     "name": "stderr",
     "output_type": "stream",
     "text": [
      "100%|██████████| 6512/6512 [00:02<00:00, 2211.45it/s]\n"
     ]
    }
   ],
   "source": [
    "prop_df = dm.descriptors.batch_compute_many_descriptors(df.mol,properties_fn=my_prop_dict,add_properties=False,\n",
    "                                             progress=True)"
   ]
  },
  {
   "cell_type": "code",
   "execution_count": 8,
   "metadata": {},
   "outputs": [
    {
     "data": {
      "text/html": [
       "<div>\n",
       "<style scoped>\n",
       "    .dataframe tbody tr th:only-of-type {\n",
       "        vertical-align: middle;\n",
       "    }\n",
       "\n",
       "    .dataframe tbody tr th {\n",
       "        vertical-align: top;\n",
       "    }\n",
       "\n",
       "    .dataframe thead th {\n",
       "        text-align: right;\n",
       "    }\n",
       "</style>\n",
       "<table border=\"1\" class=\"dataframe\">\n",
       "  <thead>\n",
       "    <tr style=\"text-align: right;\">\n",
       "      <th></th>\n",
       "      <th>SMILES</th>\n",
       "      <th>CASRN</th>\n",
       "      <th>Ames</th>\n",
       "      <th>mol</th>\n",
       "      <th>mw</th>\n",
       "      <th>logp</th>\n",
       "      <th>hbd</th>\n",
       "      <th>hba</th>\n",
       "      <th>max_ring_size</th>\n",
       "    </tr>\n",
       "  </thead>\n",
       "  <tbody>\n",
       "    <tr>\n",
       "      <th>0</th>\n",
       "      <td>O=C1c2ccccc2C(=O)c3c1ccc4c3[nH]c5c6C(=O)c7cccc...</td>\n",
       "      <td>2475-33-4</td>\n",
       "      <td>0</td>\n",
       "      <td>&lt;img data-content=\"rdkit/molecule\" src=\"data:i...</td>\n",
       "      <td>646.116486</td>\n",
       "      <td>6.3494</td>\n",
       "      <td>2</td>\n",
       "      <td>8</td>\n",
       "      <td>6</td>\n",
       "    </tr>\n",
       "    <tr>\n",
       "      <th>1</th>\n",
       "      <td>NNC(=O)CNC(=O)\\C=N#N</td>\n",
       "      <td>820-75-7</td>\n",
       "      <td>1</td>\n",
       "      <td>&lt;img data-content=\"rdkit/molecule\" src=\"data:i...</td>\n",
       "      <td>157.059974</td>\n",
       "      <td>-2.6069</td>\n",
       "      <td>4</td>\n",
       "      <td>7</td>\n",
       "      <td>0</td>\n",
       "    </tr>\n",
       "    <tr>\n",
       "      <th>2</th>\n",
       "      <td>O=C1NC(=O)\\C(=N#N)\\C=N1</td>\n",
       "      <td>2435-76-9</td>\n",
       "      <td>1</td>\n",
       "      <td>&lt;img data-content=\"rdkit/molecule\" src=\"data:i...</td>\n",
       "      <td>138.017775</td>\n",
       "      <td>-1.0222</td>\n",
       "      <td>1</td>\n",
       "      <td>6</td>\n",
       "      <td>6</td>\n",
       "    </tr>\n",
       "  </tbody>\n",
       "</table>\n",
       "</div>"
      ],
      "text/plain": [
       "                                              SMILES       CASRN  Ames  \\\n",
       "0  O=C1c2ccccc2C(=O)c3c1ccc4c3[nH]c5c6C(=O)c7cccc...  2475-33-4      0   \n",
       "1                              NNC(=O)CNC(=O)\\C=N#N    820-75-7      1   \n",
       "2                           O=C1NC(=O)\\C(=N#N)\\C=N1   2435-76-9      1   \n",
       "\n",
       "                                                 mol          mw    logp  hbd  \\\n",
       "0  <img data-content=\"rdkit/molecule\" src=\"data:i...  646.116486  6.3494    2   \n",
       "1  <img data-content=\"rdkit/molecule\" src=\"data:i...  157.059974 -2.6069    4   \n",
       "2  <img data-content=\"rdkit/molecule\" src=\"data:i...  138.017775 -1.0222    1   \n",
       "\n",
       "   hba  max_ring_size  \n",
       "0    8              6  \n",
       "1    7              0  \n",
       "2    6              6  "
      ]
     },
     "execution_count": 8,
     "metadata": {},
     "output_type": "execute_result"
    }
   ],
   "source": [
    "df = pd.concat([df,prop_df],axis=1)\n",
    "df.head(3)"
   ]
  }
 ],
 "metadata": {
  "kernelspec": {
   "display_name": "datamol",
   "language": "python",
   "name": "python3"
  },
  "language_info": {
   "codemirror_mode": {
    "name": "ipython",
    "version": 3
   },
   "file_extension": ".py",
   "mimetype": "text/x-python",
   "name": "python",
   "nbconvert_exporter": "python",
   "pygments_lexer": "ipython3",
   "version": "3.10.13"
  }
 },
 "nbformat": 4,
 "nbformat_minor": 2
}

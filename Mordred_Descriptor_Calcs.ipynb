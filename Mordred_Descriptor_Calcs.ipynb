{
 "cells": [
  {
   "cell_type": "code",
   "execution_count": 5,
   "metadata": {},
   "outputs": [],
   "source": [
    "import pandas as pd\n",
    "from mordred import Calculator, descriptors\n",
    "from rdkit import Chem\n",
    "from rdkit.Chem import AllChem\n"
   ]
  },
  {
   "cell_type": "code",
   "execution_count": 6,
   "metadata": {},
   "outputs": [],
   "source": [
    "# Load dataframe from CSV. \n",
    "df = pd.read_csv(\n",
    "    'https://raw.githubusercontent.com/cptlab/ASCEPT_2023_comptox_workshop/main/W109_Machine_learning_QSAR_for_toxicity_prediction/data/smiles_cas_N6512_corrected.smi',\n",
    "    names=['SMILES', 'CASRN', 'Ames'],\n",
    "    delimiter='\\t'\n",
    ")"
   ]
  },
  {
   "cell_type": "code",
   "execution_count": 9,
   "metadata": {},
   "outputs": [],
   "source": [
    "# Make baby dataset for testing.\n",
    "df2 = df.head(100)"
   ]
  },
  {
   "cell_type": "code",
   "execution_count": 11,
   "metadata": {},
   "outputs": [],
   "source": [
    "def All_Mordred_descriptors(data):\n",
    "    calc = Calculator(descriptors, ignore_3D=False)\n",
    "    mols = [Chem.MolFromSmiles(smi) for smi in data]\n",
    "\n",
    "    # pandas df\n",
    "    df = calc.pandas(mols)\n",
    "    return df"
   ]
  },
  {
   "cell_type": "code",
   "execution_count": 12,
   "metadata": {},
   "outputs": [
    {
     "name": "stderr",
     "output_type": "stream",
     "text": [
      "  1%|          | 1/100 [00:06<10:50,  6.57s/it]"
     ]
    },
    {
     "name": "stdout",
     "output_type": "stream",
     "text": [
      "d:\\Users\\slade\\anaconda3\\envs\\datamol\\lib\\site-packages\\numpy\\core\\fromnumeric.py:88: RuntimeWarning: overflow encountered in reduce\n",
      "  return ufunc.reduce(obj, axis, dtype, out, **passkwargs)\n"
     ]
    },
    {
     "name": "stderr",
     "output_type": "stream",
     "text": [
      "100%|██████████| 100/100 [00:09<00:00, 10.67it/s]\n"
     ]
    }
   ],
   "source": [
    "mordred_descriptors = All_Mordred_descriptors(df2['SMILES'])"
   ]
  },
  {
   "cell_type": "code",
   "execution_count": 13,
   "metadata": {},
   "outputs": [
    {
     "data": {
      "text/html": [
       "<div>\n",
       "<style scoped>\n",
       "    .dataframe tbody tr th:only-of-type {\n",
       "        vertical-align: middle;\n",
       "    }\n",
       "\n",
       "    .dataframe tbody tr th {\n",
       "        vertical-align: top;\n",
       "    }\n",
       "\n",
       "    .dataframe thead th {\n",
       "        text-align: right;\n",
       "    }\n",
       "</style>\n",
       "<table border=\"1\" class=\"dataframe\">\n",
       "  <thead>\n",
       "    <tr style=\"text-align: right;\">\n",
       "      <th></th>\n",
       "      <th>SMILES</th>\n",
       "      <th>CASRN</th>\n",
       "      <th>Ames</th>\n",
       "      <th>ABC</th>\n",
       "      <th>ABCGG</th>\n",
       "      <th>nAcid</th>\n",
       "      <th>nBase</th>\n",
       "      <th>SpAbs_A</th>\n",
       "      <th>SpMax_A</th>\n",
       "      <th>SpDiam_A</th>\n",
       "      <th>...</th>\n",
       "      <th>SRW10</th>\n",
       "      <th>TSRW10</th>\n",
       "      <th>MW</th>\n",
       "      <th>AMW</th>\n",
       "      <th>WPath</th>\n",
       "      <th>WPol</th>\n",
       "      <th>Zagreb1</th>\n",
       "      <th>Zagreb2</th>\n",
       "      <th>mZagreb1</th>\n",
       "      <th>mZagreb2</th>\n",
       "    </tr>\n",
       "  </thead>\n",
       "  <tbody>\n",
       "    <tr>\n",
       "      <th>0</th>\n",
       "      <td>O=C1c2ccccc2C(=O)c3c1ccc4c3[nH]c5c6C(=O)c7cccc...</td>\n",
       "      <td>2475-33-4</td>\n",
       "      <td>0</td>\n",
       "      <td>module 'numpy' has no attribute 'float'.\\n`np....</td>\n",
       "      <td>module 'numpy' has no attribute 'float'.\\n`np....</td>\n",
       "      <td>0.0</td>\n",
       "      <td>0.0</td>\n",
       "      <td>68.986805</td>\n",
       "      <td>2.703846</td>\n",
       "      <td>5.287332</td>\n",
       "      <td>...</td>\n",
       "      <td>11.433677</td>\n",
       "      <td>106.317006</td>\n",
       "      <td>646.116486</td>\n",
       "      <td>9.501713</td>\n",
       "      <td>8149.0</td>\n",
       "      <td>118.0</td>\n",
       "      <td>312.0</td>\n",
       "      <td>407.0</td>\n",
       "      <td>13.388889</td>\n",
       "      <td>10.305556</td>\n",
       "    </tr>\n",
       "    <tr>\n",
       "      <th>1</th>\n",
       "      <td>NNC(=O)CNC(=O)\\C=N#N</td>\n",
       "      <td>820-75-7</td>\n",
       "      <td>1</td>\n",
       "      <td>module 'numpy' has no attribute 'float'.\\n`np....</td>\n",
       "      <td>module 'numpy' has no attribute 'float'.\\n`np....</td>\n",
       "      <td>0.0</td>\n",
       "      <td>0.0</td>\n",
       "      <td>12.806544</td>\n",
       "      <td>2.074313</td>\n",
       "      <td>4.148627</td>\n",
       "      <td>...</td>\n",
       "      <td>8.213653</td>\n",
       "      <td>38.726083</td>\n",
       "      <td>157.059974</td>\n",
       "      <td>8.725554</td>\n",
       "      <td>188.0</td>\n",
       "      <td>10.0</td>\n",
       "      <td>42.0</td>\n",
       "      <td>42.0</td>\n",
       "      <td>5.472222</td>\n",
       "      <td>2.833333</td>\n",
       "    </tr>\n",
       "    <tr>\n",
       "      <th>2</th>\n",
       "      <td>O=C1NC(=O)\\C(=N#N)\\C=N1</td>\n",
       "      <td>2435-76-9</td>\n",
       "      <td>1</td>\n",
       "      <td>module 'numpy' has no attribute 'float'.\\n`np....</td>\n",
       "      <td>module 'numpy' has no attribute 'float'.\\n`np....</td>\n",
       "      <td>0.0</td>\n",
       "      <td>0.0</td>\n",
       "      <td>11.945822</td>\n",
       "      <td>2.267184</td>\n",
       "      <td>4.534368</td>\n",
       "      <td>...</td>\n",
       "      <td>8.912069</td>\n",
       "      <td>39.310842</td>\n",
       "      <td>138.017775</td>\n",
       "      <td>11.501481</td>\n",
       "      <td>116.0</td>\n",
       "      <td>12.0</td>\n",
       "      <td>46.0</td>\n",
       "      <td>51.0</td>\n",
       "      <td>4.333333</td>\n",
       "      <td>2.361111</td>\n",
       "    </tr>\n",
       "  </tbody>\n",
       "</table>\n",
       "<p>3 rows × 1829 columns</p>\n",
       "</div>"
      ],
      "text/plain": [
       "                                              SMILES       CASRN  Ames  \\\n",
       "0  O=C1c2ccccc2C(=O)c3c1ccc4c3[nH]c5c6C(=O)c7cccc...  2475-33-4      0   \n",
       "1                              NNC(=O)CNC(=O)\\C=N#N    820-75-7      1   \n",
       "2                           O=C1NC(=O)\\C(=N#N)\\C=N1   2435-76-9      1   \n",
       "\n",
       "                                                 ABC  \\\n",
       "0  module 'numpy' has no attribute 'float'.\\n`np....   \n",
       "1  module 'numpy' has no attribute 'float'.\\n`np....   \n",
       "2  module 'numpy' has no attribute 'float'.\\n`np....   \n",
       "\n",
       "                                               ABCGG  nAcid  nBase    SpAbs_A  \\\n",
       "0  module 'numpy' has no attribute 'float'.\\n`np....    0.0    0.0  68.986805   \n",
       "1  module 'numpy' has no attribute 'float'.\\n`np....    0.0    0.0  12.806544   \n",
       "2  module 'numpy' has no attribute 'float'.\\n`np....    0.0    0.0  11.945822   \n",
       "\n",
       "    SpMax_A  SpDiam_A  ...      SRW10      TSRW10          MW        AMW  \\\n",
       "0  2.703846  5.287332  ...  11.433677  106.317006  646.116486   9.501713   \n",
       "1  2.074313  4.148627  ...   8.213653   38.726083  157.059974   8.725554   \n",
       "2  2.267184  4.534368  ...   8.912069   39.310842  138.017775  11.501481   \n",
       "\n",
       "    WPath   WPol  Zagreb1  Zagreb2   mZagreb1   mZagreb2  \n",
       "0  8149.0  118.0    312.0    407.0  13.388889  10.305556  \n",
       "1   188.0   10.0     42.0     42.0   5.472222   2.833333  \n",
       "2   116.0   12.0     46.0     51.0   4.333333   2.361111  \n",
       "\n",
       "[3 rows x 1829 columns]"
      ]
     },
     "execution_count": 13,
     "metadata": {},
     "output_type": "execute_result"
    }
   ],
   "source": [
    "# Join the new dataframe onto the original.\n",
    "df = pd.concat([df,mordred_descriptors],axis=1)\n",
    "df.head(3)"
   ]
  }
 ],
 "metadata": {
  "kernelspec": {
   "display_name": "datamol",
   "language": "python",
   "name": "python3"
  },
  "language_info": {
   "codemirror_mode": {
    "name": "ipython",
    "version": 3
   },
   "file_extension": ".py",
   "mimetype": "text/x-python",
   "name": "python",
   "nbconvert_exporter": "python",
   "pygments_lexer": "ipython3",
   "version": "3.10.13"
  }
 },
 "nbformat": 4,
 "nbformat_minor": 2
}
